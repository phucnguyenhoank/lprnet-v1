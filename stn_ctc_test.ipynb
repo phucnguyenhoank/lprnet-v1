{
 "cells": [
  {
   "cell_type": "code",
   "execution_count": null,
   "id": "a27c2d24",
   "metadata": {},
   "outputs": [
    {
     "name": "stdout",
     "output_type": "stream",
     "text": [
      "tensor(7.9377)\n"
     ]
    }
   ],
   "source": [
    "# CTC Loss\n",
    "\n",
    "import torch\n",
    "import torch.nn as nn\n",
    "import torch.nn.functional as F\n",
    "\n",
    "ctc_loss = nn.CTCLoss()\n",
    "\n",
    "# Input sequence length (time steps)\n",
    "T = 18\n",
    "\n",
    "# Batch size\n",
    "N = 16\n",
    "\n",
    "# Number of classes\n",
    "C = 37\n",
    "\n",
    "# Network outputs (logits)\n",
    "logits = torch.randn(T, N, C)\n",
    "log_probs = F.log_softmax(logits, dim=2)\n",
    "\n",
    "# lengths of every target sentences\n",
    "S = 10 # Max target length\n",
    "target_lengths = torch.randint(5, S, (N,), dtype=torch.long)\n",
    "\n",
    "# Targets\n",
    "targets = torch.randint(1, C, (torch.sum(target_lengths).item(),), dtype=torch.long) # does not include the blank index, in this case it's 0\n",
    "\n",
    "# lengths of every input sentences\n",
    "input_lengths = torch.full(size=(N,), fill_value=T, dtype=torch.long)\n",
    "\n",
    "\n",
    "loss = ctc_loss(log_probs, targets, input_lengths, target_lengths)\n",
    "print(loss)\n"
   ]
  },
  {
   "cell_type": "code",
   "execution_count": null,
   "id": "be775f40",
   "metadata": {},
   "outputs": [],
   "source": []
  }
 ],
 "metadata": {
  "kernelspec": {
   "display_name": "lprnet-v1 (3.11.13)",
   "language": "python",
   "name": "python3"
  },
  "language_info": {
   "codemirror_mode": {
    "name": "ipython",
    "version": 3
   },
   "file_extension": ".py",
   "mimetype": "text/x-python",
   "name": "python",
   "nbconvert_exporter": "python",
   "pygments_lexer": "ipython3",
   "version": "3.11.13"
  }
 },
 "nbformat": 4,
 "nbformat_minor": 5
}
